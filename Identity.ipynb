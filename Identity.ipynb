{
 "cells": [
  {
   "cell_type": "markdown",
   "id": "passing-courtesy",
   "metadata": {},
   "source": [
    "# Exercises\n",
    "\n",
    "This notebook contains simple exercises to become familiar with Python and GitHub."
   ]
  },
  {
   "cell_type": "markdown",
   "id": "rough-bandwidth",
   "metadata": {},
   "source": [
    "## Identity File\n",
    "\n",
    "Create a file labeled `identity.txt` that contains the following attributes: `Name`, `GitHubID`, `NetID`, `NetID`; one attribute per line.\n",
    "You can edit the Python code below to complete this exercise.\n",
    "Specifically, you should replace `<Full Name>`, `<GitHub ID>`, `<TAMU NetID>`, `<TAMU NetID>` by their values."
   ]
  },
  {
   "cell_type": "code",
   "execution_count": null,
   "id": "governmental-investor",
   "metadata": {},
   "outputs": [],
   "source": [
    "with open('identity.txt', 'w') as f:\n",
    "    f.write('Name: <Full Name>\\n')\n",
    "    f.write('GitHubID: <GitHub ID>\\n')\n",
    "    f.write('NetID: <TAMU NetID>\\n')\n",
    "    f.write('NetID: <TAMU UIN>')"
   ]
  },
  {
   "cell_type": "markdown",
   "id": "whole-owner",
   "metadata": {},
   "source": [
    "## GitHub\n",
    "\n",
    "You should push your changes to GitHub.\n",
    "Specifically, `add` and `commit` your modifications to your local repository.\n",
    "Then `pull` the latest revisions from the master repository and `push` your contribution to the master repository.\n",
    "You can verify success using the GitHub web interface."
   ]
  }
 ],
 "metadata": {
  "kernelspec": {
   "display_name": "Python 3",
   "language": "python",
   "name": "python3"
  },
  "language_info": {
   "codemirror_mode": {
    "name": "ipython",
    "version": 3
   },
   "file_extension": ".py",
   "mimetype": "text/x-python",
   "name": "python",
   "nbconvert_exporter": "python",
   "pygments_lexer": "ipython3",
   "version": "3.7.9"
  }
 },
 "nbformat": 4,
 "nbformat_minor": 5
}
